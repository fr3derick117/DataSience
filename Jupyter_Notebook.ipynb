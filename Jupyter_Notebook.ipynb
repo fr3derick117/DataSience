{
 "cells": [
  {
   "cell_type": "markdown",
   "metadata": {},
   "source": [
    "<center>\n",
    "    <img src=\"https://cf-courses-data.s3.us.cloud-object-storage.appdomain.cloud/IBMDeveloperSkillsNetwork-DS0105EN-SkillsNetwork/labs/Module2/images/SN_web_lightmode.png\" width=\"300\" alt=\"cognitiveclass.ai logo\">\n",
    "</center>\n"
   ]
  },
  {
   "cell_type": "markdown",
   "metadata": {},
   "source": [
    "#### Add your code below following the instructions given in the course\n"
   ]
  },
  {
   "cell_type": "markdown",
   "metadata": {},
   "source": [
    "# Data Science Tools and Ecosystem"
   ]
  },
  {
   "cell_type": "markdown",
   "metadata": {},
   "source": [
    "## Welcome to this comprehensive notebook where we delve into the dynamic realm of Data Science Tools and Ecosystem. As we embark on this journey, we'll navigate through a rich tapestry of methodologies, frameworks, and technologies that collectively form the backbone of modern data science. From the fundamental tools that empower data exploration to the cutting-edge ecosystems driving innovation, this compilation aims to provide a concise yet insightful overview of the diverse landscape shaping the field of data science. So, fasten your seatbelts as we unravel the layers of tools and ecosystems that fuel the data-driven revolution."
   ]
  },
  {
   "cell_type": "markdown",
   "metadata": {
    "tags": []
   },
   "source": [
    "## Some of the popular languages that Data Scientists use are:\n",
    "\n",
    "1. **Python:**\n",
    "   - Known for its readability and versatility.\n",
    "   - Extensive libraries like NumPy, Pandas, and Scikit-Learn for data manipulation and machine learning.\n",
    "\n",
    "2. **R:**\n",
    "   - Designed specifically for statistical computing and graphics.\n",
    "   - Rich ecosystem for statistical analysis and visualization.\n",
    "\n",
    "3. **SQL:**\n",
    "   - Essential for database management and querying.\n",
    "   - Often used to extract and manipulate data stored in relational databases.\n",
    "\n",
    "4. **Julia:**\n",
    "   - Growing in popularity for its performance in numerical and scientific computing.\n",
    "   - Designed to be fast without sacrificing high-level abstractions.\n"
   ]
  },
  {
   "cell_type": "markdown",
   "metadata": {},
   "source": [
    "## Some of the commonly used libraries used by Data Scientists include:\n",
    "\n",
    "1. **NumPy:**\n",
    "   - Essential for numerical operations and array manipulation in Python.\n",
    "   - Provides support for large, multi-dimensional arrays and matrices.\n",
    "\n",
    "2. **Pandas:**\n",
    "   - A powerful library for data manipulation and analysis.\n",
    "   - Offers data structures like DataFrame, ideal for handling and cleaning structured data.\n",
    "\n",
    "3. **Scikit-Learn:**\n",
    "   - A machine learning library built on NumPy, SciPy, and Matplotlib.\n",
    "   - Provides simple and efficient tools for data mining and data analysis.\n",
    "\n",
    "4. **Matplotlib:**\n",
    "   - Widely used for creating static, animated, and interactive visualizations in Python.\n",
    "   - Offers a MATLAB-like interface for plotting."
   ]
  },
  {
   "cell_type": "markdown",
   "metadata": {},
   "source": [
    "| Data Science Tools     |\n",
    "|-------------------------|\n",
    "| Jupyter Notebooks       |\n",
    "| RStudio                 |\n",
    "| VS Code with Python     |\n"
   ]
  },
  {
   "cell_type": "markdown",
   "metadata": {},
   "source": [
    "### Below are a few examples of evaluating arithmetic expressions in Python."
   ]
  },
  {
   "cell_type": "code",
   "execution_count": 2,
   "metadata": {
    "tags": []
   },
   "outputs": [
    {
     "data": {
      "text/plain": [
       "17"
      ]
     },
     "execution_count": 2,
     "metadata": {},
     "output_type": "execute_result"
    }
   ],
   "source": [
    "# This is a simple arithmetic expression to multiply then add integers.\n",
    "result = (3 * 4) + 5\n",
    "result\n"
   ]
  },
  {
   "cell_type": "code",
   "execution_count": 3,
   "metadata": {
    "tags": []
   },
   "outputs": [
    {
     "data": {
      "text/plain": [
       "3.3333333333333335"
      ]
     },
     "execution_count": 3,
     "metadata": {},
     "output_type": "execute_result"
    }
   ],
   "source": [
    "# This will convert 200 minutes to hours by dividing by 60.\n",
    "minutes = 200\n",
    "hours = minutes / 60\n",
    "hours"
   ]
  },
  {
   "cell_type": "markdown",
   "metadata": {},
   "source": [
    "**Objectives:**\n",
    "\n",
    "- Explore popular languages in Data Science.\n",
    "- Discuss commonly used libraries for Data Science tasks.\n",
    "- Introduce key open source tools for Data Science development environments.\n",
    "- Demonstrate the evaluation of arithmetic expressions in Python.\n",
    "- Illustrate the conversion of minutes to hours using Python.\n"
   ]
  },
  {
   "cell_type": "markdown",
   "metadata": {},
   "source": [
    "## Author\n",
    "Axel Frederick Félix Jiménez"
   ]
  },
  {
   "cell_type": "code",
   "execution_count": null,
   "metadata": {},
   "outputs": [],
   "source": []
  }
 ],
 "metadata": {
  "kernelspec": {
   "display_name": "Python",
   "language": "python",
   "name": "conda-env-python-py"
  },
  "language_info": {
   "codemirror_mode": {
    "name": "ipython",
    "version": 3
   },
   "file_extension": ".py",
   "mimetype": "text/x-python",
   "name": "python",
   "nbconvert_exporter": "python",
   "pygments_lexer": "ipython3",
   "version": "3.7.12"
  }
 },
 "nbformat": 4,
 "nbformat_minor": 4
}
